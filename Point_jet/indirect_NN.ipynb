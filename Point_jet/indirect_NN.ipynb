{
 "cells": [
  {
   "cell_type": "code",
   "execution_count": 1,
   "metadata": {},
   "outputs": [],
   "source": [
    "import scipy\n",
    "import scipy.io\n",
    "import scipy.ndimage\n",
    "import numpy as np\n",
    "from scipy.sparse.linalg import spsolve\n",
    "from scipy import sparse\n",
    "from scipy.linalg import block_diag\n",
    "import matplotlib.pyplot as plt\n",
    "import matplotlib.animation as animation\n",
    "import torch\n",
    "from functools import partial\n",
    "\n",
    "# from NeuralNet import *\n",
    "from timeit import default_timer\n",
    "\n",
    "from Solver import *\n",
    "import sys\n",
    "sys.path.append('../Utility')\n",
    "import NeuralNet\n",
    "import KalmanInversion \n",
    "from Numerics import interpolate_f2c, gradient_first_f2c\n",
    "# import imp\n",
    "# imp.reload(KalmanInversion )\n",
    "# imp.reload(NeuralNet )\n"
   ]
  },
  {
   "cell_type": "markdown",
   "metadata": {},
   "source": [
    "# Load Training data"
   ]
  },
  {
   "cell_type": "code",
   "execution_count": 5,
   "metadata": {},
   "outputs": [
    {
     "data": {
      "image/png": "[encoded data removed]",
      "text/plain": [
       "<Figure size 864x432 with 2 Axes>"
      ]
     },
     "metadata": {
      "needs_background": "light"
     },
     "output_type": "display_data"
    }
   ],
   "source": [
    "Nx = 384\n",
    "beta = 1.0\n",
    "tau_inv = [0.01, 0.02, 0.04, 0.08, 0.16]\n",
    "N_data = len(tau_inv)\n",
    "\n",
    "data_dirs = [\"../data/beta_1.0_Gamma_1.0_relax_\" + str(tau_inv[i]) + \"/\" for i in range(len(tau_inv))]\n",
    "\n",
    "L = 4*np.pi\n",
    "xx, closure_mean,  q_mean, dq_dx_mean = np.zeros((N_data,Nx)), np.zeros((N_data,Nx)), np.zeros((N_data,Nx)), np.zeros((N_data,Nx))\n",
    "for i in range(N_data):  \n",
    "    closure_mean[i, :], q_mean[i, :], dq_dx_mean[i, :] = load_data(data_dirs[i])\n",
    "    xx[i, :] = np.linspace(-L/2.0, L/2.0, Nx)\n",
    "dx = xx[0, 1] - xx[0, 0]\n",
    "\n",
    "\n",
    "# TODO: clean data\n",
    "omega_jet = np.zeros(Nx)\n",
    "omega_jet[0:Nx//2] = 1.0\n",
    "omega_jet[Nx//2:Nx] = -1.0\n",
    "q_jet = omega_jet + beta*xx[0, :]\n",
    "\n",
    "\n",
    "f = np.zeros(q_mean.shape)\n",
    "chop_l = 15\n",
    "for i in range(N_data):  \n",
    "    q_mean[i, 0:chop_l] = q_jet[0:chop_l]\n",
    "    q_mean[i, -chop_l:] = q_jet[-chop_l:]\n",
    "    \n",
    "    f[i, :] = tau_inv[i]*(q_jet - q_mean[i, :])\n",
    "\n",
    "\n",
    "# visualize data\n",
    "\n",
    "fig, ax = plt.subplots(nrows=1, ncols=2, sharex=False, sharey=True, figsize=(12,6))\n",
    "for i in range(N_data):\n",
    "    ax[0].plot(q_mean[i, :], xx[i,:],  \"--\", fillstyle=\"none\", color=\"C\"+str(i))\n",
    "    ax[1].plot(f[i, :], xx[i,:],  \"--\", fillstyle=\"none\", color=\"C\"+str(i))\n",
    "    \n",
    "ax[0].set_xlabel(\"q\")\n",
    "ax[1].set_xlabel(\"f\")   \n",
    "plt.show()\n",
    "\n"
   ]
  },
  {
   "cell_type": "code",
   "execution_count": null,
   "metadata": {},
   "outputs": [],
   "source": []
  },
  {
   "cell_type": "markdown",
   "metadata": {},
   "source": [
    "# Training Loss : || d(D dq/dx)/dx + f(x)|| on the quadratic function"
   ]
  },
  {
   "cell_type": "code",
   "execution_count": 6,
   "metadata": {},
   "outputs": [],
   "source": [
    "def loss_aug(s_param, params):\n",
    "    xx, q = s_param.xx, s_param.q\n",
    "    ind, outd, width = s_param.ind, s_param.outd, s_param.width\n",
    "    activation, initializer, outputlayer = s_param.activation, s_param.initializer, s_param.outputlayer\n",
    "    \n",
    "    N_data, Nx = q.shape\n",
    "    # does not include top and bottom nodes\n",
    "    res = np.zeros((N_data, Nx - 2))\n",
    "    \n",
    "\n",
    "    net =  create_net(ind, outd, layers, width, activation, initializer, outputlayer,  params)\n",
    "    \n",
    "    nn_model = partial(nn_flux, net)\n",
    "    \n",
    "    for i in range(N_data):\n",
    "        nummodel(nn_model, q[i, :], xx[i, :], res[i, :])\n",
    "        \n",
    "    return np.hstack((-np.reshape(res, -1), params))\n"
   ]
  },
  {
   "cell_type": "markdown",
   "metadata": {},
   "source": [
    "## Start UKI"
   ]
  },
  {
   "cell_type": "code",
   "execution_count": 7,
   "metadata": {},
   "outputs": [],
   "source": [
    "class PoissonParam:\n",
    "    def __init__(self, xx, q, N_y, ind, outd, layers, width, activation, initializer, outputlayer, aug=True):\n",
    "        self.theta_names = [\"hyperparameters\"]\n",
    "        self.xx = xx\n",
    "        self.q  = q\n",
    "        self.ind  = ind\n",
    "        self.outd = outd\n",
    "        self.width = width\n",
    "        self.activation = activation\n",
    "        self.initializer = initializer\n",
    "        self.outputlayer = outputlayer\n",
    "        \n",
    "        \n",
    "        N_theta = ind*width + (layers - 2)*width**2 + width*outd + (layers - 1)*width + outd\n",
    "        self.N_theta = N_theta\n",
    "        \n",
    "        \n",
    "        self.N_y = N_y + N_theta if aug else N_y"
   ]
  },
  {
   "cell_type": "code",
   "execution_count": null,
   "metadata": {},
   "outputs": [
    {
     "name": "stdout",
     "output_type": "stream",
     "text": [
      " N_theta =  41  N_y =  1951\n",
      " q =  (5, 384)\n",
      "ukiobj.gamma :  1.0\n",
      "len(ukiobj.opt_error) :  0 1\n",
      "optimization error at iter  0  =  4.835245171915841e+18\n",
      "len(ukiobj.theta_cov) :  0 2\n",
      "Frobenius norm of the covariance at iter  0  =  640.3124237432849\n",
      "ukiobj.gamma :  1.0\n",
      "len(ukiobj.opt_error) :  1 2\n",
      "optimization error at iter  1  =  3.285204096315009e+18\n",
      "len(ukiobj.theta_cov) :  1 3\n",
      "Frobenius norm of the covariance at iter  1  =  378.7910359854935\n",
      "ukiobj.gamma :  1.0\n",
      "len(ukiobj.opt_error) :  2 3\n",
      "optimization error at iter  2  =  27768592985145.75\n",
      "len(ukiobj.theta_cov) :  2 4\n",
      "Frobenius norm of the covariance at iter  2  =  1.6798491914051435e-06\n",
      "ukiobj.gamma :  1.0\n",
      "len(ukiobj.opt_error) :  3 4\n",
      "optimization error at iter  3  =  14434899427704.13\n",
      "len(ukiobj.theta_cov) :  3 5\n",
      "Frobenius norm of the covariance at iter  3  =  3.6404236819436163e-10\n"
     ]
    }
   ],
   "source": [
    "aug = True\n",
    "\n",
    "y = np.reshape(f[:, 1:Nx - 1], -1)\n",
    "Sigma_eta = np.fabs(f[:, 1:Nx - 1])\n",
    "for i in range(N_data):\n",
    "    Sigma_eta[i, :] = np.mean(Sigma_eta[i, :])\n",
    "Sigma_eta = np.diag(np.reshape((Sigma_eta*0.01)**2, -1))\n",
    "\n",
    "\n",
    "N_y = len(y)\n",
    "ind, outd, width = 2, 1, 10\n",
    "layers = 2\n",
    "activation, initializer, outputlayer = \"sigmoid\", \"default\", \"None\"\n",
    "\n",
    "s_param = PoissonParam(xx, q_mean, N_y,  ind, outd, layers, width, activation, initializer, outputlayer, aug)\n",
    "\n",
    "\n",
    "N_theta = s_param.N_theta\n",
    "\n",
    "theta0_init = NeuralNet.FNN(ind, outd, layers, width, activation, initializer, outputlayer).get_params()\n",
    "theta0_mean = np.zeros(N_theta)\n",
    "\n",
    "theta0_cov = np.zeros((N_theta, N_theta))\n",
    "np.fill_diagonal(theta0_cov, 10.0**2)  \n",
    "\n",
    "\n",
    "y_aug = np.hstack((y, theta0_mean))\n",
    "Sigma_eta_aug = block_diag(Sigma_eta, theta0_cov)\n",
    "print(\" N_theta = \", s_param.N_theta, \" N_y = \", s_param.N_y)\n",
    "print(\" q = \", s_param.q.shape)\n",
    "\n",
    "\n",
    "alpha_reg = 1.0\n",
    "update_freq = 1\n",
    "N_iter = 100\n",
    "gamma = 1.0\n",
    "\n",
    "if aug:\n",
    "    uki_obj = KalmanInversion.UKI_Run(s_param, loss_aug, \n",
    "        theta0_mean, theta0_init, theta0_cov,\n",
    "        y_aug, Sigma_eta_aug,\n",
    "        alpha_reg,\n",
    "        gamma,\n",
    "        update_freq, \n",
    "        N_iter)\n",
    "else:\n",
    "    uki_obj = KalmanInversion.UKI_Run(s_param, loss, \n",
    "        theta0_mean, theta0_init, theta0_cov,\n",
    "        y, Sigma_eta,\n",
    "        alpha_reg,\n",
    "        gamma,\n",
    "        update_freq,\n",
    "        N_iter)\n",
    "\n",
    "trained_net = creat_net(ind, outd, layers, width, activation, initializer, outputlayer, uki_obj.theta_mean[-1])"
   ]
  },
  {
   "cell_type": "code",
   "execution_count": null,
   "metadata": {},
   "outputs": [],
   "source": []
  },
  {
   "cell_type": "code",
   "execution_count": null,
   "metadata": {},
   "outputs": [],
   "source": [
    "print(trained_net.modus['LinM{}'.format(1)].weight)\n",
    "print(trained_net.modus['LinM{}'.format(1)].bias)\n",
    "print(trained_net.modus['LinMout'].weight)\n",
    "print(trained_net.modus['LinMout'].bias)"
   ]
  },
  {
   "cell_type": "markdown",
   "metadata": {},
   "source": [
    "# Direct test"
   ]
  },
  {
   "cell_type": "code",
   "execution_count": null,
   "metadata": {},
   "outputs": [],
   "source": [
    "# N_test_1d = 200\n",
    "# L_test_1d = 1.0\n",
    "# N_test = N_test_1d**2\n",
    "\n",
    "# x1_test_1d = np.linspace(0, L_test_1d, N_test_1d)\n",
    "# x2_test_1d = np.linspace(-L_test_1d, L_test_1d, N_test_1d)\n",
    "# X_test_2d, Y_test_2d = np.meshgrid(x1_test_1d, x2_test_1d)\n",
    "\n",
    "# x_test = np.vstack((X_test_2d.reshape(-1), Y_test_2d.reshape(-1))).T    \n",
    "# y_test = permeability_ref(x_test[:, 0], x_test[:, 1]).reshape((N_test, 1))\n",
    "\n",
    "\n",
    "# y_pred = nn_model(x_test, trained_net)  \n",
    "\n",
    "# y_test_2d = y_test.reshape((N_test_1d,N_test_1d))\n",
    "# y_pred_2d = y_pred.reshape((N_test_1d,N_test_1d))\n",
    "\n",
    "# plt.figure()\n",
    "# plt.pcolormesh(X_test_2d, Y_test_2d, y_test_2d)\n",
    "# plt.colorbar()\n",
    "\n",
    "# plt.figure()\n",
    "# plt.pcolormesh(X_test_2d, Y_test_2d, y_pred_2d)\n",
    "# plt.colorbar()\n",
    "\n",
    "# plt.figure()\n",
    "# plt.pcolormesh(X_test_2d, Y_test_2d, y_test_2d - y_pred_2d)\n",
    "# plt.colorbar()\n"
   ]
  },
  {
   "cell_type": "markdown",
   "metadata": {},
   "source": [
    "# Plug-in test"
   ]
  },
  {
   "cell_type": "code",
   "execution_count": null,
   "metadata": {},
   "outputs": [],
   "source": [
    "beta = 1.0\n",
    "N_y = 384\n",
    "omega_jet = np.zeros(N_y)\n",
    "omega_jet[0:N_y//2] = 1.0\n",
    "omega_jet[N_y//2:N_y] = -1.0\n",
    "L = 4*np.pi\n",
    "yy = np.linspace(-L/2.0, L/2.0, N_y)\n",
    "q_jet = omega_jet + beta*yy\n",
    "\n",
    "\n",
    "tau_inv = \"0.08\"                                                                                                               \n",
    "tau = 1/float(tau_inv)\n",
    "data_dir = \"../data/beta_1.0_Gamma_1.0_relax_\" + tau_inv + \"/\"\n",
    "dq_dy = scipy.io.loadmat(data_dir+\"data_dq_dy.mat\")[\"data_dq_dy\"]\n",
    "closure = scipy.io.loadmat(data_dir+\"data_closure_cons.mat\")[\"data_closure_cons\"]\n",
    "w = scipy.io.loadmat(data_dir+\"data_w.mat\")[\"data_w\"]\n",
    "q = scipy.io.loadmat(data_dir+\"data_q.mat\")[\"data_q\"]\n",
    "\n",
    "_, Ny, Nt = q.shape\n",
    "q_mean = np.mean(q[0, :, Nt//2:], axis=1)\n",
    "w_mean = np.mean(w[0, :, Nt//2:], axis=1)\n",
    "\n",
    "\n",
    "\n",
    "nn_model = partial(nn_flux, trained_net)\n",
    "\n",
    "model = lambda q, yy, res : nummodel_flux(nn_model, q, yy, res)\n",
    "dt, Nt, save_every = 1.0e-4, 200000, 1000\n",
    "yy, t_pred, q_pred = explicit_solve(model, q_jet, tau, dt, Nt, save_every, L = 4*np.pi)\n",
    "q_mean_pred = np.mean(q_pred[Nt//(2*save_every):, :], axis=0)\n",
    "\n",
    "fig, ax = plt.subplots(nrows=1, ncols=2, sharex=False, sharey=True, figsize=(8,6))\n",
    "\n",
    "\n",
    "ax[0].plot(q_mean, yy,   label=\"ref\")                                                                         \n",
    "ax[0].plot(q_mean_pred, yy, label=\"plug-in\")\n",
    "ax[1].plot(w_mean, yy,   label=\"ref\")                                                                         \n",
    "ax[1].plot(q_mean_pred - beta*yy, yy, label=\"plug-in\")\n",
    "ax[0].set_xlabel(\"q\")\n",
    "ax[1].set_xlabel(\"omega\")\n",
    "                                                                                                            \n",
    "plt.legend()\n",
    "plt.show()"
   ]
  },
  {
   "cell_type": "code",
   "execution_count": null,
   "metadata": {},
   "outputs": [],
   "source": []
  },
  {
   "cell_type": "code",
   "execution_count": null,
   "metadata": {},
   "outputs": [],
   "source": []
  }
 ],
 "metadata": {
  "kernelspec": {
   "display_name": "Python (base)",
   "language": "python",
   "name": "base"
  },
  "language_info": {
   "codemirror_mode": {
    "name": "ipython",
    "version": 3
   },
   "file_extension": ".py",
   "mimetype": "text/x-python",
   "name": "python",
   "nbconvert_exporter": "python",
   "pygments_lexer": "ipython3",
   "version": "3.8.5"
  }
 },
 "nbformat": 4,
 "nbformat_minor": 4
}
