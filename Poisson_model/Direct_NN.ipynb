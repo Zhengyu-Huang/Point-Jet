{
 "cells": [
  {
   "cell_type": "code",
   "execution_count": 12,
   "metadata": {},
   "outputs": [],
   "source": [
    "import scipy.io\n",
    "import scipy.ndimage\n",
    "import numpy as np\n",
    "from scipy.sparse.linalg import spsolve\n",
    "from scipy import sparse\n",
    "import matplotlib.pyplot as plt\n",
    "import matplotlib.animation as animation\n",
    "from Solver import nummodel, nummodel_jac, explicit_solve, implicit_solve\n",
    "from NeuralNet import *\n",
    "from timeit import default_timer\n",
    "\n"
   ]
  },
  {
   "cell_type": "markdown",
   "metadata": {},
   "source": [
    "# Training a quadratic function"
   ]
  },
  {
   "cell_type": "code",
   "execution_count": 16,
   "metadata": {},
   "outputs": [
    {
     "name": "stdout",
     "output_type": "stream",
     "text": [
      "Epoch :  0  Epoch time :  0.37999567199995  Train L2 Loss :  169.93568828329444\n",
      "Epoch :  100  Epoch time :  0.35954045400012546  Train L2 Loss :  52.00917636230588\n",
      "Epoch :  200  Epoch time :  0.270918048999647  Train L2 Loss :  52.0091761611402\n",
      "Epoch :  300  Epoch time :  0.29851439300000493  Train L2 Loss :  52.00917615741491\n",
      "Epoch :  400  Epoch time :  0.26852352100013377  Train L2 Loss :  52.00917627476156\n",
      "Epoch :  500  Epoch time :  0.26898205500037875  Train L2 Loss :  52.00917620584369\n",
      "Epoch :  600  Epoch time :  0.27287281499957317  Train L2 Loss :  52.009176187217236\n",
      "Epoch :  700  Epoch time :  0.29636461400014014  Train L2 Loss :  52.0091762393713\n",
      "Epoch :  800  Epoch time :  0.27815800799999124  Train L2 Loss :  52.00917615927756\n",
      "Epoch :  900  Epoch time :  0.2730865819999053  Train L2 Loss :  52.00917614251375\n",
      "Epoch :  1000  Epoch time :  0.34406268400016415  Train L2 Loss :  52.009176183491945\n",
      "Epoch :  1100  Epoch time :  0.3225998090001667  Train L2 Loss :  52.00917625054717\n",
      "Epoch :  1200  Epoch time :  0.27619816700007505  Train L2 Loss :  52.009176287800074\n",
      "Epoch :  1300  Epoch time :  0.2743615249996765  Train L2 Loss :  52.009176168590784\n",
      "Epoch :  1400  Epoch time :  0.2835671299999376  Train L2 Loss :  52.00917640887201\n",
      "Epoch :  1500  Epoch time :  0.29797710499997265  Train L2 Loss :  52.00917640328407\n",
      "Epoch :  1600  Epoch time :  0.26754174699999567  Train L2 Loss :  52.00917622074485\n",
      "Epoch :  1700  Epoch time :  0.27829219799968996  Train L2 Loss :  52.00917623192072\n",
      "Epoch :  1800  Epoch time :  0.2656809059999432  Train L2 Loss :  52.00917628407478\n",
      "Epoch :  1900  Epoch time :  0.27253753100012545  Train L2 Loss :  52.009176306426525\n"
     ]
    }
   ],
   "source": [
    "nn_save_name = \"quadratic.nn\"\n",
    "N_train = 10000\n",
    "x_train = np.linspace(-1,1, N_train).reshape((N_train, 1))\n",
    "y_train = x_train ** 2\n",
    "    \n",
    "x_train = torch.from_numpy(x_train.astype(np.float32))\n",
    "y_train = torch.from_numpy(y_train.astype(np.float32))\n",
    "\n",
    "ind = x_train.shape[1]\n",
    "outd = y_train.shape[1] \n",
    "\n",
    "learning_rate = 0.001\n",
    "step_size = 100\n",
    "gamma = 0.5  \n",
    "epochs = 2000\n",
    "batch_size = 16\n",
    "\n",
    "layers = 2\n",
    "width  = 10\n",
    "model = FNN(ind, outd, layers, width) \n",
    "\n",
    "train_loader = torch.utils.data.DataLoader(torch.utils.data.TensorDataset(x_train, y_train), batch_size=batch_size, shuffle=True)\n",
    "\n",
    "optimizer = Adam(model.parameters(), lr=learning_rate, weight_decay=1e-4)\n",
    "scheduler = torch.optim.lr_scheduler.StepLR(optimizer, step_size=step_size, gamma=gamma)\n",
    "\n",
    "myloss = torch.nn.MSELoss(reduction='sum')\n",
    "t0 = default_timer()\n",
    "for ep in range(epochs):\n",
    "    model.train()\n",
    "    t1 = default_timer()\n",
    "    train_l2 = 0\n",
    "    for x, y in train_loader:\n",
    "\n",
    "        optimizer.zero_grad()\n",
    "        out = model(x)\n",
    "        \n",
    "        loss = myloss(out , y)\n",
    "        loss.backward()\n",
    "\n",
    "        optimizer.step()\n",
    "        train_l2 += loss.item()\n",
    "\n",
    "        scheduler.step()\n",
    "\n",
    "    if ep % 100 == 0:\n",
    "        # train_l2/= ntrain\n",
    "        t2 = default_timer()\n",
    "        print(\"Epoch : \", ep, \" Epoch time : \", t2-t1, \" Train L2 Loss : \", train_l2)\n",
    "    if nn_save_name is not None:\n",
    "        torch.save(model, nn_save_name)\n",
    "        \n",
    "#     print(\"Total time is :\", default_timer() - t0, \"Total epoch is \", epochs)\n",
    "\n",
    "\n"
   ]
  },
  {
   "cell_type": "markdown",
   "metadata": {},
   "source": [
    "# Testing on the quadratic function"
   ]
  },
  {
   "cell_type": "code",
   "execution_count": 17,
   "metadata": {},
   "outputs": [
    {
     "data": {
      "text/plain": [
       "<matplotlib.legend.Legend at 0x7fd64902a430>"
      ]
     },
     "execution_count": 17,
     "metadata": {},
     "output_type": "execute_result"
    },
    {
     "data": {
      "image/png": "[encoded data removed]",
      "text/plain": [
       "<Figure size 432x432 with 1 Axes>"
      ]
     },
     "metadata": {
      "needs_background": "light"
     },
     "output_type": "display_data"
    }
   ],
   "source": [
    "N_test = 100\n",
    "x_test = np.linspace(-1,1, N_test).reshape((N_test, 1))\n",
    "y_test = x_test ** 2\n",
    "y_pred = model(torch.from_numpy(x_test.astype(np.float32))).detach().numpy()\n",
    "\n",
    "fig, ax = plt.subplots(1,figsize=(6,6))\n",
    "ax.plot(x_test,  y_test, \"--o\", fillstyle = \"none\", label=\"Ref\")\n",
    "ax.plot(x_test,  y_pred, \"o\",   fillstyle = \"none\", label=\"Pred\")\n",
    "ax.legend()"
   ]
  },
  {
   "cell_type": "code",
   "execution_count": null,
   "metadata": {},
   "outputs": [],
   "source": []
  }
 ],
 "metadata": {
  "kernelspec": {
   "display_name": "Python 3 (ipykernel)",
   "language": "python",
   "name": "python3"
  },
  "language_info": {
   "codemirror_mode": {
    "name": "ipython",
    "version": 3
   },
   "file_extension": ".py",
   "mimetype": "text/x-python",
   "name": "python",
   "nbconvert_exporter": "python",
   "pygments_lexer": "ipython3",
   "version": "3.8.12"
  }
 },
 "nbformat": 4,
 "nbformat_minor": 4
}
