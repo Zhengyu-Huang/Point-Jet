{
 "cells": [
  {
   "cell_type": "code",
   "execution_count": 1,
   "metadata": {},
   "outputs": [],
   "source": [
    "import scipy.io\n",
    "import scipy.ndimage\n",
    "import numpy as np\n",
    "from scipy.sparse.linalg import spsolve\n",
    "from scipy import sparse\n",
    "import matplotlib.pyplot as plt\n",
    "import matplotlib.animation as animation\n",
    "from Solver import nummodel, nummodel_jac, explicit_solve, implicit_solve\n",
    "from NeuralNet import *\n",
    "from timeit import default_timer\n",
    "\n"
   ]
  },
  {
   "cell_type": "code",
   "execution_count": 2,
   "metadata": {},
   "outputs": [],
   "source": [
    "def permeability_ref(q, dq):\n",
    "    return q**2 + dq**2 + 1\n",
    "def D_permeability_ref(q, dq):\n",
    "    return 2*q, 2*dq\n"
   ]
  },
  {
   "cell_type": "markdown",
   "metadata": {},
   "source": [
    "# Training a quadratic function\n",
    " $$D(\\theta) = \\theta^2 + (\\frac{\\partial \\theta}{\\partial x})^2 + 1$$"
   ]
  },
  {
   "cell_type": "code",
   "execution_count": null,
   "metadata": {},
   "outputs": [
    {
     "name": "stdout",
     "output_type": "stream",
     "text": [
      "Epoch :  0  Epoch time :  0.13650608000000375  Train L2 Loss :  6127754.883300781\n",
      "Epoch :  100  Epoch time :  0.12998991500001011  Train L2 Loss :  486.16511952877045\n",
      "Epoch :  200  Epoch time :  0.11405230799999799  Train L2 Loss :  317.2362446784973\n",
      "Epoch :  300  Epoch time :  0.10966267899999593  Train L2 Loss :  307.9198333621025\n",
      "Epoch :  400  Epoch time :  0.10767850799999223  Train L2 Loss :  304.23311130702496\n",
      "Epoch :  500  Epoch time :  0.13186419300001262  Train L2 Loss :  303.38436844944954\n",
      "Epoch :  600  Epoch time :  0.11113243599999123  Train L2 Loss :  302.2671687602997\n",
      "Epoch :  700  Epoch time :  0.09765119799999411  Train L2 Loss :  301.9405007362366\n",
      "Epoch :  800  Epoch time :  0.09891763699999956  Train L2 Loss :  301.9431594610214\n",
      "Epoch :  900  Epoch time :  0.1027835720000212  Train L2 Loss :  301.717368721962\n",
      "Epoch :  1000  Epoch time :  0.20939963699998998  Train L2 Loss :  301.67023861408234\n",
      "Epoch :  1100  Epoch time :  0.11174314199996616  Train L2 Loss :  301.63881546258926\n",
      "Epoch :  1200  Epoch time :  0.13666548700001613  Train L2 Loss :  301.6191485822201\n",
      "Epoch :  1300  Epoch time :  0.12369894999994813  Train L2 Loss :  301.6120103597641\n",
      "Epoch :  1400  Epoch time :  0.12210764899998594  Train L2 Loss :  301.6061471104622\n",
      "Epoch :  1500  Epoch time :  0.11300840200004814  Train L2 Loss :  301.6049221754074\n",
      "Epoch :  1600  Epoch time :  0.11304146800000581  Train L2 Loss :  301.60464534163475\n"
     ]
    }
   ],
   "source": [
    "nn_save_name = \"quadratic.nn\"\n",
    "N_train_1d = 100\n",
    "L_train_1d = 1\n",
    "N_train = N_train_1d**2\n",
    "\n",
    "x_train_1d = np.linspace(-L_train_1d, L_train_1d, N_train_1d)\n",
    "X_train_2d, Y_train_2d = np.meshgrid(x_train_1d, x_train_1d)\n",
    "\n",
    "\n",
    "x_train = np.vstack((X_train_2d.reshape(-1), Y_train_2d.reshape(-1))).T\n",
    "y_train = permeability_ref(x_train[:, 0], x_train[:, 1]).reshape((N_train, 1))\n",
    "    \n",
    "x_train = torch.from_numpy(x_train.astype(np.float32))\n",
    "y_train = torch.from_numpy(y_train.astype(np.float32))\n",
    "\n",
    "ind = x_train.shape[1]\n",
    "outd = y_train.shape[1] \n",
    "\n",
    "learning_rate = 0.001\n",
    "step_size = 100\n",
    "gamma = 0.5  \n",
    "epochs = 2000\n",
    "batch_size = 64\n",
    "\n",
    "layers = 2\n",
    "width  = 20\n",
    "nn_model = FNN(ind, outd, layers, width) \n",
    "\n",
    "train_loader = torch.utils.data.DataLoader(torch.utils.data.TensorDataset(x_train, y_train), batch_size=batch_size, shuffle=True)\n",
    "\n",
    "optimizer = Adam(nn_model.parameters(), lr=learning_rate, weight_decay=1e-4)\n",
    "scheduler = torch.optim.lr_scheduler.StepLR(optimizer, step_size=step_size, gamma=gamma)\n",
    "\n",
    "myloss = torch.nn.MSELoss(reduction='sum')\n",
    "t0 = default_timer()\n",
    "for ep in range(epochs):\n",
    "    nn_model.train()\n",
    "    t1 = default_timer()\n",
    "    train_l2 = 0\n",
    "    for x, y in train_loader:\n",
    "\n",
    "        optimizer.zero_grad()\n",
    "        out = nn_model(x)\n",
    "        \n",
    "        loss = myloss(out , y)*100\n",
    "        loss.backward()\n",
    "\n",
    "        optimizer.step()\n",
    "        train_l2 += loss.item()\n",
    "\n",
    "    scheduler.step()\n",
    "\n",
    "    if ep % 100 == 0:\n",
    "        # train_l2/= ntrain\n",
    "        t2 = default_timer()\n",
    "        print(\"Epoch : \", ep, \" Epoch time : \", t2-t1, \" Train L2 Loss : \", train_l2)\n",
    "    if nn_save_name is not None:\n",
    "        torch.save(nn_model, nn_save_name)\n",
    "        \n"
   ]
  },
  {
   "cell_type": "markdown",
   "metadata": {},
   "source": [
    "# Testing on the quadratic function"
   ]
  },
  {
   "cell_type": "code",
   "execution_count": null,
   "metadata": {},
   "outputs": [],
   "source": [
    "N_test_1d = 200\n",
    "L_test_1d = 1\n",
    "N_test = N_test_1d**2\n",
    "\n",
    "x_test_1d = np.linspace(-L_test_1d, L_test_1d, N_test_1d)\n",
    "X_test_2d, Y_test_2d = np.meshgrid(x_test_1d, x_test_1d)\n",
    "\n",
    "x_test = np.vstack((X_test_2d.reshape(-1), Y_test_2d.reshape(-1))).T    \n",
    "y_test = permeability_ref(x_test[:, 0], x_test[:, 1]).reshape((N_test, 1))\n",
    "\n",
    "\n",
    "\n",
    "x_test = torch.from_numpy(x_test.astype(np.float32))\n",
    "y_pred = nn_model(x_test).detach().numpy()\n",
    "\n"
   ]
  },
  {
   "cell_type": "code",
   "execution_count": null,
   "metadata": {},
   "outputs": [],
   "source": [
    "y_test_2d = y_test.reshape((N_test_1d,N_test_1d))\n",
    "y_pred_2d = y_pred.reshape((N_test_1d,N_test_1d))\n",
    "\n",
    "plt.figure()\n",
    "plt.pcolormesh(X_test_2d, Y_test_2d, y_test_2d)\n",
    "plt.colorbar()\n",
    "\n",
    "plt.figure()\n",
    "plt.pcolormesh(X_test_2d, Y_test_2d, y_pred_2d)\n",
    "plt.colorbar()\n",
    "\n",
    "plt.figure()\n",
    "plt.pcolormesh(X_test_2d, Y_test_2d, y_test_2d - y_pred_2d)\n",
    "plt.colorbar()"
   ]
  },
  {
   "cell_type": "markdown",
   "metadata": {},
   "source": [
    "# Derivative test"
   ]
  },
  {
   "cell_type": "code",
   "execution_count": null,
   "metadata": {},
   "outputs": [],
   "source": [
    "q = np.array([1.0])\n",
    "dq = np.array([1.0])\n",
    "x = torch.from_numpy((np.vstack((q, dq)).T).astype(np.float32))  \n",
    "x.requires_grad = True\n",
    "y = nn_model(x)  #.detach().numpy().flatten()\n",
    "\n",
    "d = torch.autograd.grad(y, x)\n",
    "\n",
    "print(\"analytical derivative is :\", d)\n",
    "eps = 1e-3\n",
    "xp0 = x + torch.Tensor([eps, 0.0])\n",
    "yp0 = nn_model(xp0)\n",
    "xp1 = x + torch.Tensor([0.0, eps])\n",
    "yp1 = nn_model(xp1)\n",
    "\n",
    "print(\"FD derivative is :\", (yp0-y)/eps, (yp1-y)/eps)\n"
   ]
  },
  {
   "cell_type": "markdown",
   "metadata": {},
   "source": [
    "# Plug-in test"
   ]
  },
  {
   "cell_type": "code",
   "execution_count": null,
   "metadata": {},
   "outputs": [],
   "source": [
    "def permeability(q, dq):\n",
    "    \n",
    "    x = np.vstack((q, dq)).T\n",
    "    \n",
    "    permeability = nn_model(torch.from_numpy(x.astype(np.float32))).detach().numpy().flatten()\n",
    "    \n",
    "    return permeability\n",
    "\n",
    "def D_permeability(q, dq):\n",
    "    \n",
    "    Ny = q.size\n",
    "    Dq, Ddq = np.zeros(Ny), np.zeros(Ny)\n",
    "    \n",
    "    for i in range(Ny):\n",
    "        x = torch.from_numpy(np.array([[q[i],dq[i]]]).astype(np.float32))\n",
    "        x.requires_grad = True\n",
    "        y = nn_model(x)  #.detach().numpy().flatten()\n",
    "        d = torch.autograd.grad(y, x)[0].numpy().flatten()\n",
    "        Dq[i], Ddq[i] = d[0], d[1]\n",
    "    \n",
    "    \n",
    "    return Dq, Ddq\n",
    "\n",
    "L = 1.0\n",
    "Ny = 100\n",
    "yy = np.linspace(0.0, L, Ny)\n",
    "f = 6*(1-2*yy)**2 - 2*(yy - yy**2)*(1 - 2*yy)**2 + 2*(yy - yy**2)**2 + 2 \n",
    "q_sol = -yy*(yy - 1)\n",
    "dbc = np.array([0.0, 0.0]) \n",
    "\n",
    "MODEL = \"imp_nummodel\"\n",
    "\n",
    "if MODEL == \"imp_nummodel\":\n",
    "    \n",
    "    model = lambda q, yy, res, V : nummodel_jac(permeability, q, yy, res, V, True, D_permeability)  \n",
    "    yy, t_data, q_data = implicit_solve(model, f, dbc, dt = 1.0e-3, Nt = 200, save_every = 1, L = L)\n",
    "    \n",
    "    model = lambda q, yy, res, V : nummodel_jac(permeability_ref, q, yy, res, V, True, D_permeability_ref)  \n",
    "    yy_ref, t_data_ref, q_data_ref = implicit_solve(model, f, dbc, dt = 1.0e-3, Nt = 200, save_every = 100, L = L)\n",
    "    \n",
    "\n",
    "elif MODEL == \"imp_Newton_nummodel\":\n",
    "    \n",
    "    model = lambda q, yy, res, V : nummodel_jac(permeability, q, yy, res, V, True, D_permeability)  \n",
    "    yy, t_data, q_data = implicit_Newton_solve(model, f, dbc, dt = 1.0e-3, Nt = 200, save_every = 100, L = L, Newton_eps = 1e-3, Newton_maxiterstep = 1000)\n",
    "    \n",
    "    model = lambda q, yy, res, V : nummodel_jac(permeability_ref, q, yy, res, V, True, D_permeability_ref)  \n",
    "    yy_ref, t_data_ref, q_data_ref = implicit_Newton_solve(model, f, dbc, dt = 1.0e-3, Nt = 200, save_every = 1, L = L, Newton_eps = 1e-3, Newton_maxiterstep = 1000)\n",
    "     \n",
    "else:\n",
    "    print(\"ERROR\")\n",
    "\n",
    "\n",
    "plt.figure()\n",
    "plt.plot(yy, q_data[-1, :],  \"--o\", fillstyle=\"none\", label=\"q\")\n",
    "plt.plot(yy, q_data_ref[-1, :],  \"--*\", label=\"q ref\")\n",
    "\n",
    "plt.xlabel(\"y\")\n",
    "plt.legend()\n",
    "plt.show()\n",
    "\n",
    "\n",
    " \n",
    "\n"
   ]
  },
  {
   "cell_type": "code",
   "execution_count": null,
   "metadata": {},
   "outputs": [],
   "source": []
  }
 ],
 "metadata": {
  "kernelspec": {
   "display_name": "Python 3 (ipykernel)",
   "language": "python",
   "name": "python3"
  },
  "language_info": {
   "codemirror_mode": {
    "name": "ipython",
    "version": 3
   },
   "file_extension": ".py",
   "mimetype": "text/x-python",
   "name": "python",
   "nbconvert_exporter": "python",
   "pygments_lexer": "ipython3",
   "version": "3.8.12"
  }
 },
 "nbformat": 4,
 "nbformat_minor": 4
}
