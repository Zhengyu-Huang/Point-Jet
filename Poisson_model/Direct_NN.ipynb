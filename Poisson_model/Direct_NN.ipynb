{
 "cells": [
  {
   "cell_type": "code",
   "execution_count": null,
   "metadata": {},
   "outputs": [],
   "source": [
    "import scipy.io\n",
    "import scipy.ndimage\n",
    "import numpy as np\n",
    "from scipy.sparse.linalg import spsolve\n",
    "from scipy import sparse\n",
    "import matplotlib.pyplot as plt\n",
    "from functools import partial\n",
    "\n",
    "import torch\n",
    "from Solver import *\n",
    "# from NeuralNet import *\n",
    "from timeit import default_timer\n",
    "\n",
    "import sys\n",
    "sys.path.append('../Utility')\n",
    "import NeuralNet\n",
    "import PlotDefault"
   ]
  },
  {
   "cell_type": "markdown",
   "metadata": {},
   "source": [
    "# Training a quadratic function\n",
    " $$D(\\theta) = \\sqrt{\\theta^2 + (\\frac{\\partial \\theta}{\\partial x})^2}$$"
   ]
  },
  {
   "cell_type": "code",
   "execution_count": null,
   "metadata": {},
   "outputs": [],
   "source": [
    "nn_save_name = \"direct.nn\"\n",
    "N_train_1d = 100\n",
    "L_train_1d = 1\n",
    "N_train = N_train_1d**2\n",
    "\n",
    "x_train_1d = np.linspace(-L_train_1d, L_train_1d, N_train_1d)\n",
    "X_train_2d, Y_train_2d = np.meshgrid(x_train_1d, x_train_1d)\n",
    "\n",
    "\n",
    "x_train = np.vstack((X_train_2d.reshape(-1), Y_train_2d.reshape(-1))).T\n",
    "y_train = permeability_ref(x_train).reshape((N_train, 1)) / mu_scale\n",
    "    \n",
    "x_train = torch.from_numpy(x_train.astype(np.float32))\n",
    "y_train = torch.from_numpy(y_train.astype(np.float32))\n",
    "\n",
    "ind = x_train.shape[1]\n",
    "outd = y_train.shape[1] \n",
    "\n",
    "learning_rate = 0.001\n",
    "step_size = 100\n",
    "gamma = 0.5  \n",
    "epochs = 1000\n",
    "batch_size = 64\n",
    "\n",
    "\n",
    "net = NeuralNet.FNN(ind, outd, layers, width, activation, initializer, outputlayer) \n",
    "\n",
    "train_loader = torch.utils.data.DataLoader(torch.utils.data.TensorDataset(x_train, y_train), batch_size=batch_size, shuffle=True)\n",
    "\n",
    "optimizer = NeuralNet.Adam(net.parameters(), lr=learning_rate, weight_decay=1e-4)\n",
    "scheduler = torch.optim.lr_scheduler.StepLR(optimizer, step_size=step_size, gamma=gamma)\n",
    "\n",
    "myloss = torch.nn.MSELoss(reduction='sum')\n",
    "t0 = default_timer()\n",
    "for ep in range(epochs):\n",
    "    net.train()\n",
    "    t1 = default_timer()\n",
    "    train_l2 = 0\n",
    "    for x, y in train_loader:\n",
    "\n",
    "        optimizer.zero_grad()\n",
    "        out = net(x)\n",
    "        \n",
    "        loss = myloss(out , y)*100\n",
    "        loss.backward()\n",
    "\n",
    "        optimizer.step()\n",
    "        train_l2 += loss.item()\n",
    "\n",
    "#     scheduler.step()\n",
    "\n",
    "    if ep % 100 == 0:\n",
    "        # train_l2/= ntrain\n",
    "        t2 = default_timer()\n",
    "        print(\"Epoch : \", ep, \" Epoch time : \", t2-t1, \" Train L2 Loss : \", train_l2)\n",
    "        if nn_save_name is not None:\n",
    "            torch.save(net, nn_save_name)\n",
    "        \n"
   ]
  },
  {
   "cell_type": "code",
   "execution_count": null,
   "metadata": {},
   "outputs": [],
   "source": []
  }
 ],
 "metadata": {
  "kernelspec": {
   "display_name": "Python (base)",
   "language": "python",
   "name": "base"
  },
  "language_info": {
   "codemirror_mode": {
    "name": "ipython",
    "version": 3
   },
   "file_extension": ".py",
   "mimetype": "text/x-python",
   "name": "python",
   "nbconvert_exporter": "python",
   "pygments_lexer": "ipython3",
   "version": "3.8.5"
  }
 },
 "nbformat": 4,
 "nbformat_minor": 4
}
