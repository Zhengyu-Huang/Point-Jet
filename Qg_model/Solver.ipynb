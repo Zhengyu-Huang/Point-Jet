{
 "cells": [
  {
   "cell_type": "code",
   "execution_count": 12,
   "metadata": {},
   "outputs": [],
   "source": [
    "import numpy as np\n",
    "import xarray as xr\n",
    "import matplotlib.pyplot as plt\n",
    "\n",
    "from Solver import *\n",
    "from functools import partial\n",
    "import sys\n",
    "sys.path.append('../Utility')\n",
    "from Numerics import gradient_first,  gradient_first_c2f, gradient_first_f2c, interpolate_c2f, interpolate_f2c, psi_fft_sol, gradient_fft\n",
    "import NeuralNet\n",
    "import PlotDefault\n",
    "\n"
   ]
  },
  {
   "cell_type": "markdown",
   "metadata": {},
   "source": [
    "# Load Data"
   ]
  },
  {
   "cell_type": "code",
   "execution_count": 13,
   "metadata": {},
   "outputs": [],
   "source": [
    "Ny = 256\n",
    "L = 50*2*np.pi\n",
    "H = [1.0, 1.0]               # the rest depths of each layer\n",
    "kd = 1.0                     # rd\n",
    "beta = 3.0\n",
    "mu = 0.3                     # bottom drag rek\n",
    "U = [0.0, 0.0]\n",
    "dU = U[0] - U[1] \n",
    "F1 = kd/(1 + (H[0]/H[1])**2.0)\n",
    "F2 = kd/(1 + (H[1]/H[0])**2.0)\n",
    "beta1, beta2 = beta + F1*dU, beta - F2*dU\n",
    "hyper_nu, hyper_order = 0.0, 2\n",
    "Q = 1.0\n",
    "\n",
    "yy, dy = np.linspace(L/(2*Ny), L - L/(2*Ny), Ny), L/Ny\n",
    "\n",
    "force = np.zeros((2, Ny))\n",
    "force[0, :] = -Q * np.sin(2*np.pi*yy/L)\n",
    "force[1, :] =  Q * np.sin(2*np.pi*yy/L)\n",
    "\n",
    "    \n",
    "    \n",
    "folder_name = '/central/groups/esm/zhaoyi/pyqg_run/2layer/inhomogeneous/nx256beta3rek0p3/'\n",
    "file_name = 'nx256beta3rek0p3'\n",
    "start, end, step = 500000, 1000000, 20000\n",
    "flow_means, flow_zonal_means = preprocess_data(folder_name, file_name, beta, dU, L, start, end, step)\n",
    "mu_mean, dpv_mean, u_mean, vor_mean, q_mean, psi_mean, flux_mean, psi_var_2_mean = flow_means[:8]\n",
    "q_zonal_mean, dq_zonal_mean = flow_zonal_means[:2]\n",
    "\n"
   ]
  },
  {
   "cell_type": "markdown",
   "metadata": {},
   "source": [
    "# Plot zonal mean q (top and bottom layers)"
   ]
  },
  {
   "cell_type": "code",
   "execution_count": null,
   "metadata": {},
   "outputs": [],
   "source": [
    "fig, ax = plt.subplots(2,figsize=(15,10))\n",
    "im0 = ax[0].imshow(q_zonal_mean[:,:,0].T,  aspect='auto', cmap='RdBu_r')\n",
    "fig.colorbar(im0, ax=ax[0])\n",
    "im1 = ax[1].imshow(q_zonal_mean[:,:,1].T,  aspect='auto', cmap='RdBu_r')\n",
    "fig.colorbar(im1, ax=ax[1])\n",
    "plt.tight_layout()"
   ]
  },
  {
   "cell_type": "markdown",
   "metadata": {},
   "source": [
    "# Plot zonal mean dq (top and bottom layers)"
   ]
  },
  {
   "cell_type": "code",
   "execution_count": null,
   "metadata": {},
   "outputs": [],
   "source": [
    "fig, ax = plt.subplots(2,figsize=(15,10))\n",
    "im0 = ax[0].matshow(dq_zonal_mean[:,:,0].T,  aspect='auto')\n",
    "fig.colorbar(im0, ax=ax[0])\n",
    "im1 = ax[1].matshow(dq_zonal_mean[:,:,1].T,  aspect='auto')\n",
    "fig.colorbar(im1, ax=ax[1])\n",
    "plt.tight_layout()"
   ]
  },
  {
   "cell_type": "markdown",
   "metadata": {},
   "source": [
    "# Plot top layer time and zonal mean dpv, flux, mu, q"
   ]
  },
  {
   "cell_type": "code",
   "execution_count": null,
   "metadata": {},
   "outputs": [],
   "source": [
    "for i in [0]:\n",
    "    fig, ax = plt.subplots(3,2,figsize=(24,24))\n",
    "    ax[0,0].plot(dpv_mean[0, :], yy, \"-o\", fillstyle = \"none\", label=\"dpv\")\n",
    "    ax[0,0].legend()\n",
    "    ax[0,1].plot(flux_mean[0, :], yy, \"-o\", fillstyle = \"none\", label=\"flux\")\n",
    "    ax[0,1].legend()\n",
    "    ax[1,0].plot(mu_mean[0, :], yy, \"-o\", fillstyle = \"none\", label=\"mu\")\n",
    "    ax[1,0].legend()\n",
    "    ax[1,0].set_xlim([-10, 50])\n",
    "    \n",
    "    ax[1,1].plot(q_mean[0, :], yy, \"-o\", fillstyle = \"none\", label=\"q\")\n",
    "    ax[1,1].legend()\n",
    "    ax[2,0].plot(u_mean[0, :], yy, \"-o\", fillstyle = \"none\", label=\"u\")\n",
    "    ax[2,0].legend()\n",
    "    ax[2,1].plot(vor_mean[0, :], yy, \"-o\", fillstyle = \"none\", label=\"vor\")\n",
    "    ax[2,1].legend()\n",
    "    plt.suptitle(\"Top layer\")\n",
    "    \n",
    "    \n",
    "    fig, ax = plt.subplots(3,2,figsize=(24,24))\n",
    "    ax[0,0].plot(dpv_mean[1, :], yy, \"-o\", fillstyle = \"none\", label=\"dpv\")\n",
    "    ax[0,0].legend()\n",
    "    ax[0,1].plot(flux_mean[1, :], yy,\"-o\", fillstyle = \"none\", label=\"flux\")\n",
    "    ax[0,1].legend()\n",
    "    ax[1,0].plot(mu_mean[1, :], yy,\"-o\", fillstyle = \"none\", label=\"mu\")\n",
    "    ax[1,0].legend()\n",
    "    ax[1,0].set_xlim([-10, 50])\n",
    "    ax[1,1].plot(q_mean[1, :], yy,\"-o\", fillstyle = \"none\", label=\"q\")\n",
    "    ax[1,1].legend()\n",
    "    ax[2,0].plot(u_mean[1, :], yy,\"-o\", fillstyle = \"none\", label=\"u\")\n",
    "    ax[2,0].legend()\n",
    "    ax[2,1].plot(vor_mean[1, :], yy,\"-o\", fillstyle = \"none\", label=\"vor\")\n",
    "    ax[2,1].legend()\n",
    "    plt.suptitle(\"Bottom layer\")"
   ]
  },
  {
   "cell_type": "code",
   "execution_count": null,
   "metadata": {},
   "outputs": [],
   "source": []
  },
  {
   "cell_type": "markdown",
   "metadata": {},
   "source": [
    "# Test flux budget with exact solution"
   ]
  },
  {
   "cell_type": "code",
   "execution_count": null,
   "metadata": {},
   "outputs": [],
   "source": [
    "mu_c = np.copy(mu_mean)\n",
    "mu_c[0,:] = interpolate_f2c(mu_mean[0,:], bc=\"periodic\")\n",
    "mu_c[1,:] = interpolate_f2c(mu_mean[1,:], bc=\"periodic\")\n",
    "\n",
    "params = QG_params(L=L, dU=dU, F1=F1, F2=F2, hyper_nu=hyper_nu, hyper_order=hyper_order, beta=beta, mu=mu)\n",
    "\n",
    "# compute tendency\n",
    "def mu_model(x):\n",
    "    return mu_c.flatten()\n",
    "\n",
    "\n",
    "tend_model = np.zeros((2,Ny))\n",
    "nummodel(mu_model, beta1, beta2, q_mean, psi_mean, yy, tend_model) \n",
    "tend_hyper = hyperdiffusion(q_mean, hyper_nu, hyper_order, dy)\n",
    "psi_fft_mean = psi_fft_sol(q_mean, F1, F2, dy)\n",
    "\n",
    "\n",
    "\n",
    "\n",
    "fig, ax = plt.subplots(2,figsize=(18,10))\n",
    "ax[0].plot(psi_fft_mean[0, :], yy, \"-o\", fillstyle = \"none\", label=\"psi from q\")\n",
    "ax[0].plot(psi_mean[0, :], yy, \"-o\", fillstyle = \"none\", label=\"psi_ref\")\n",
    "ax[0].legend()\n",
    "ax[1].plot(psi_fft_mean[1, :], yy, \"-o\", fillstyle = \"none\", label=\"psi from q\")\n",
    "ax[1].plot(psi_mean[1, :], yy, \"-o\", fillstyle = \"none\", label=\"psi_ref\")\n",
    "ax[1].legend()\n",
    "\n",
    "print(\"psi error = \", np.linalg.norm(psi_fft_mean - psi_mean))\n",
    "\n",
    "\n",
    "\n",
    "dd_psi2 = gradient_fft(psi_fft_mean[1, :], dy, 2)\n",
    "tend_drag  = -mu*dd_psi2\n",
    "\n",
    "\n",
    "fig, ax = plt.subplots(2,figsize=(18,10))\n",
    "# ax[0].plot(q_mean[0, :], yy, \"-o\", fillstyle = \"none\", label=\"q\")\n",
    "ax[0].plot(tend_model[0, :], yy, \"-o\", fillstyle = \"none\", label=\"tendency\")\n",
    "ax[0].legend()\n",
    "# ax[1].plot(q_mean[1, :], yy,\"-o\", fillstyle = \"none\", label=\"q\")\n",
    "ax[1].plot(tend_model[1, :] + tend_drag, yy, \"-o\", fillstyle = \"none\", label=\"tendency\")\n",
    "ax[1].plot(tend_drag, yy, \"-o\", fillstyle = \"none\", label=\"drag tendency\")\n",
    "ax[1].plot(tend_model[1, :], yy, \"-o\", fillstyle = \"none\", label=\"visc-flux\")\n",
    "ax[1].legend()\n",
    "    \n"
   ]
  },
  {
   "cell_type": "code",
   "execution_count": null,
   "metadata": {},
   "outputs": [],
   "source": [
    "# beta, dU, F1, F2 = params[\"beta\"], params[\"dU\"], params[\"F1\"], params[\"F2\"]\n",
    "# beta1, beta2 = beta + F1*dU, beta - F2*dU\n",
    "# beta1, beta2 = beta + F1*dU, beta + F2*dU\n",
    "\n",
    "dy = yy[1] - yy[0]\n",
    "\n",
    "q1, q2 = q_mean[0, :], q_mean[1, :]\n",
    "dq1, dq2 = gradient_first_f2c(q1, dy, bc=\"periodic\"), gradient_first_f2c(q2, dy, bc=\"periodic\")\n",
    "\n",
    "\n",
    "dflux = gradient_first_f2c(flux_mean[1, :], dy, bc=\"periodic\")\n",
    "plt.plot(dflux)\n",
    "plt.plot(tend_drag)\n",
    "plt.plot(-tend_model[1, :], \"-o\")"
   ]
  },
  {
   "cell_type": "code",
   "execution_count": null,
   "metadata": {},
   "outputs": [],
   "source": [
    "fig, ax = plt.subplots(2,figsize=(18,10))\n",
    "ax[0].plot(tend_model[0, :], yy, \"-o\", fillstyle = \"none\", label=\"top tendency\")\n",
    "ax[0].legend()\n",
    "ax[1].plot(tend_model[1, :], yy, \"-o\", fillstyle = \"none\", label=\"bottom tendency\")\n",
    "ax[1].legend()\n",
    "plt.title(\"plug in tend\")"
   ]
  },
  {
   "cell_type": "markdown",
   "metadata": {},
   "source": [
    "# Start 1D plug-in simulation"
   ]
  },
  {
   "cell_type": "code",
   "execution_count": null,
   "metadata": {},
   "outputs": [],
   "source": [
    "mu_mean_clip = np.copy(mu_mean)\n",
    "mu_mean_clip[mu_mean_clip < 0] = 0\n",
    "mu_mean_clip[0, :] = scipy.ndimage.gaussian_filter1d(mu_mean_clip[0, :], 5)\n",
    "mu_mean_clip[1, :] = scipy.ndimage.gaussian_filter1d(mu_mean_clip[1, :], 5)\n",
    "\n",
    "\n",
    "fig, ax = plt.subplots(2,figsize=(25,10))\n",
    "ax[0].plot(mu_mean[0, :], yy, \"--\", fillstyle = \"none\", label=\"original\")\n",
    "ax[0].plot(mu_mean_clip[0, :], yy, \"-o\", fillstyle = \"none\", label=\"smoothed\")\n",
    "ax[0].legend()\n",
    "ax[0].set_title(\"Top eddy viscosity\")\n",
    "ax[1].plot(mu_mean[1, :], yy, \"--\", fillstyle = \"none\", label=\"original\")\n",
    "ax[1].plot(mu_mean_clip[1, :], yy, \"-o\", fillstyle = \"none\", label=\"smoothed\")\n",
    "ax[1].legend()\n",
    "ax[1].set_title(\"Bottom eddy viscosity\")\n",
    "plt.title(\"plug in mu\")"
   ]
  },
  {
   "cell_type": "code",
   "execution_count": null,
   "metadata": {},
   "outputs": [],
   "source": [
    "# reset the resolution\n",
    "def coarsen(v):\n",
    "    if v.ndim == 2:\n",
    "        n = v.shape[1]\n",
    "        assert(n %2 == 0)\n",
    "        return (v[:, 0::2] + v[:, 1::2])/2.0\n",
    "    elif v.ndim == 1:\n",
    "        n = len(v)\n",
    "        assert(n %2 == 0)\n",
    "        return (v[0::2] + v[1::2])/2.0\n",
    "    else:\n",
    "        print(\"coarsen v with dimension: \", v.ndim, \" has not implemented\")\n",
    "    return v\n",
    "\n",
    "dt = 4e-3 \n",
    "save_every = 1000\n",
    "Nt = 500000 \n",
    "COARSEN_MESH = False\n",
    "if COARSEN_MESH: \n",
    "    Ny = Ny//2\n",
    "    force = coarsen(force)\n",
    "    mu_mean_clip = coarsen(mu_mean_clip)\n",
    "    yy = coarsen(yy)\n",
    "    dt *= 2.0\n",
    "    \n",
    "\n",
    "# q0 = np.copy(q_mean)\n",
    "q0 = np.zeros((2, Ny))\n",
    "q0[0, :] = 1e-1 * np.sin(2*np.pi*yy/L)\n",
    "q0[1, :] = 1e-1 * np.cos(2*np.pi*yy/L)\n",
    "\n",
    "\n",
    "def mu_model(x):\n",
    "    return mu_mean_clip_.flatten()\n",
    "\n",
    "\n",
    "model = partial(nummodel_fft, mu_model, beta1, beta2)\n",
    "yy, t_data, q_data = explicit_solve(model, force, q0, params, dt = dt, Nt = Nt, save_every = 1000)\n"
   ]
  },
  {
   "cell_type": "code",
   "execution_count": null,
   "metadata": {},
   "outputs": [],
   "source": [
    "q_mean_ref = q_mean\n",
    "fig, ax = plt.subplots(1, figsize=(10, 10))\n",
    "ax.plot(q_mean_ref[0, :], yy, label=\"top ref\")\n",
    "ax.plot(q_mean_ref[1, :], yy, label=\"bottom ref\")\n",
    "\n",
    "ax.plot(np.mean(q_data[Nt//(2*save_every):, 0, :], axis=0), yy, \"--\", label=\"top\")\n",
    "ax.plot(np.mean(q_data[Nt//(2*save_every):, 1, :], axis=0), yy, \"--\", label=\"bottom\")\n",
    "\n",
    "ax.legend()\n",
    "plt.title(\"average on last 1000 frames\")"
   ]
  },
  {
   "cell_type": "code",
   "execution_count": null,
   "metadata": {},
   "outputs": [],
   "source": []
  }
 ],
 "metadata": {
  "kernelspec": {
   "display_name": "Python (qg)",
   "language": "python",
   "name": "qg"
  },
  "language_info": {
   "codemirror_mode": {
    "name": "ipython",
    "version": 3
   },
   "file_extension": ".py",
   "mimetype": "text/x-python",
   "name": "python",
   "nbconvert_exporter": "python",
   "pygments_lexer": "ipython3",
   "version": "3.7.11"
  }
 },
 "nbformat": 4,
 "nbformat_minor": 4
}
